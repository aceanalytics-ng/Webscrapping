{
  "nbformat": 4,
  "nbformat_minor": 0,
  "metadata": {
    "colab": {
      "name": "webscrapping_project.ipynb",
      "provenance": []
    },
    "kernelspec": {
      "name": "ir",
      "display_name": "R"
    },
    "language_info": {
      "name": "R"
    }
  },
  "cells": [
    {
      "cell_type": "markdown",
      "source": [
        "# **Webscrapping and Analysis of Global COVID-19 Pandemic Data**\n",
        "\n",
        "**Author:** ***`Ayobami Yusuf`***\n",
        "\n",
        "### **Project Overview**:\n",
        "In this project, I will be scraping **Covid-19 data** off of ***Wikipedia*** using **R's** ***`rvest`*** ***library*** and conducting pretty basic exploratory data analysis (EDA).<p>\n",
        "This project has been divided into two sections:\n",
        "### **1. Data Wrangling (Webscrappping, Data Cleaning, and Data Export)**\n",
        "### **2. Exploratory Data Analysis**\n",
        "\n",
        "It is worthy of note, however, that the main focus of this project is on **ETL (Extract, Tranform and Load) processes**, not **data analysis**. To complete this project, I will carry out 5 predetermined steps/tasks."
      ],
      "metadata": {
        "id": "WHPtHi9VIkL0"
      }
    },
    {
      "cell_type": "markdown",
      "source": [
        "### Package Installation and Loading"
      ],
      "metadata": {
        "id": "N6ljJCdEI84O"
      }
    },
    {
      "cell_type": "code",
      "source": [
        "#install httr and rvest - r's webscrapping library\n",
        "install.packages(\"httr\")\n",
        "install.packages(\"rvest\")\n",
        "\n",
        "#next, I load the intsalled packages\n",
        "require(\"httr\")\n",
        "require(\"rvest\")\n",
        "\n",
        "library(httr)\n",
        "library(rvest)"
      ],
      "metadata": {
        "colab": {
          "base_uri": "https://localhost:8080/"
        },
        "id": "rQQ4tJoLI9o3",
        "outputId": "05e3866c-68f1-46ce-cada-61a3b1f04243"
      },
      "execution_count": 1,
      "outputs": [
        {
          "output_type": "stream",
          "name": "stderr",
          "text": [
            "Installing package into ‘/usr/local/lib/R/site-library’\n",
            "(as ‘lib’ is unspecified)\n",
            "\n",
            "Installing package into ‘/usr/local/lib/R/site-library’\n",
            "(as ‘lib’ is unspecified)\n",
            "\n",
            "Loading required package: httr\n",
            "\n",
            "Loading required package: rvest\n",
            "\n"
          ]
        }
      ]
    },
    {
      "cell_type": "markdown",
      "source": [
        "> ***Now that the packages have been installed and loaded into the notebook environment, I can proceed to undertake each task necessary to complete the project.*** <p> \n",
        "***Each task will be be highlighted, and if needed, a brief description of expected deliverable and actions needing clarity will be briefly described.***"
      ],
      "metadata": {
        "id": "V2yAboWsJYTR"
      }
    },
    {
      "cell_type": "markdown",
      "source": [
        "# **Data Wrangling**"
      ],
      "metadata": {
        "id": "Un_DDKsWaXuO"
      }
    },
    {
      "cell_type": "markdown",
      "source": [
        "## Task 1: Accessing the COVID-19 Pandemic Wikipedia Page using HTTP `request`\n",
        "#### The goal of this task is to get the HTML page containing the Covid-19 data using HTTP `request` (httr library)\n",
        "> The target website is **[here]( https://en.wikipedia.org/w/index.php?title=Template:COVID-19_testing_by_country)** and it contains two parts: \n",
        "1. The base URL: [https://en.wikipedia.org/w/index.php](`https://en.wikipedia.org/w/index.php`)\n",
        "2. The URL parameter: `title=Template:COVID-19_testing_by_country`, seperated by question mark ?"
      ],
      "metadata": {
        "id": "rRjKkWoVJgQa"
      }
    },
    {
      "cell_type": "code",
      "source": [
        "#I use the GET function, in the httr library with a url argument to get a HTTP response\n",
        "url <- \"https://en.wikipedia.org/w/index.php?title=Template:COVID-19_testing_by_country\"\n",
        "\n",
        "#then I use the return function to return the response\n",
        "response <- GET(url)\n",
        "response"
      ],
      "metadata": {
        "colab": {
          "base_uri": "https://localhost:8080/",
          "height": 307
        },
        "id": "E6FzvdPZJoEF",
        "outputId": "7ae7e6ab-29c6-41bf-fad5-95f277e82861"
      },
      "execution_count": 2,
      "outputs": [
        {
          "output_type": "display_data",
          "data": {
            "text/plain": [
              "Response [https://en.wikipedia.org/w/index.php?title=Template:COVID-19_testing_by_country]\n",
              "  Date: 2022-08-18 08:52\n",
              "  Status: 200\n",
              "  Content-Type: text/html; charset=UTF-8\n",
              "  Size: 415 kB\n",
              "<!DOCTYPE html>\n",
              "<html class=\"client-nojs\" lang=\"en\" dir=\"ltr\">\n",
              "<head>\n",
              "<meta charset=\"UTF-8\"/>\n",
              "<title>Template:COVID-19 testing by country - Wikipedia</title>\n",
              "<script>document.documentElement.className=\"client-js\";RLCONF={\"wgBreakFrames...\n",
              "\"CS1 German-language sources (de)\",\"CS1 Azerbaijani-language sources (az)\",\"C...\n",
              "\"CS1 uses Japanese-language script (ja)\",\"CS1 Japanese-language sources (ja)\"...\n",
              "\"COVID-19 pandemic templates\"],\"wgPageContentLanguage\":\"en\",\"wgPageContentMod...\n",
              "true,\"wgGETopicsMatchModeEnabled\":false,\"wgGEStructuredTaskRejectionReasonTex...\n",
              "..."
            ]
          },
          "metadata": {}
        }
      ]
    },
    {
      "cell_type": "markdown",
      "source": [
        "## TASK 2: Extracting COVID-19 Testing Data Table from the Wiki HTML Page\n",
        "#### The goal of this task is to extract the testing data table on the page and convert it into a R data frame. To achieve this;\n",
        "1. I use the `read_html` function in rvest library to get the root html node from response\n",
        "2. Then I get the first table in the HTML root node using the `html_node` function\n",
        "3. Lastly, I read the table node as a data frame using `html_table` function"
      ],
      "metadata": {
        "id": "EbqzRE0zKEA8"
      }
    },
    {
      "cell_type": "code",
      "source": [
        "#I get the root html node from the http response in task 1 \n",
        "root_node <- read_html(response)\n",
        "\n",
        "#Next, I get the table node from the root html node\n",
        "table_node <- html_node(root_node, \"table\")\n",
        "\n",
        "#lastly, I read the table node and convert it into a R data frame, and print the the first few rows of the data frame for review\n",
        "covid_df <- html_table(table_node)\n",
        "head(covid_df)"
      ],
      "metadata": {
        "colab": {
          "base_uri": "https://localhost:8080/",
          "height": 286
        },
        "id": "zVHuKK2oLZxf",
        "outputId": "6d2fe0d4-6c16-4dfb-b713-c5b5c4d6586e"
      },
      "execution_count": 3,
      "outputs": [
        {
          "output_type": "display_data",
          "data": {
            "text/html": [
              "<table class=\"dataframe\">\n",
              "<caption>A tibble: 6 × 9</caption>\n",
              "<thead>\n",
              "\t<tr><th scope=col>Country or region</th><th scope=col>Date[a]</th><th scope=col>Tested</th><th scope=col>Units[b]</th><th scope=col>Confirmed(cases)</th><th scope=col>Confirmed /tested,%</th><th scope=col>Tested /population,%</th><th scope=col>Confirmed /population,%</th><th scope=col>Ref.</th></tr>\n",
              "\t<tr><th scope=col>&lt;chr&gt;</th><th scope=col>&lt;chr&gt;</th><th scope=col>&lt;chr&gt;</th><th scope=col>&lt;chr&gt;</th><th scope=col>&lt;chr&gt;</th><th scope=col>&lt;chr&gt;</th><th scope=col>&lt;chr&gt;</th><th scope=col>&lt;chr&gt;</th><th scope=col>&lt;chr&gt;</th></tr>\n",
              "</thead>\n",
              "<tbody>\n",
              "\t<tr><td>Afghanistan        </td><td>17 Dec 2020</td><td>154,767</td><td>samples</td><td>49,621</td><td>32.1</td><td>0.40</td><td>0.13 </td><td>[1]   </td></tr>\n",
              "\t<tr><td>Albania            </td><td>18 Feb 2021</td><td>428,654</td><td>samples</td><td>96,838</td><td>22.6</td><td>15.0</td><td>3.4  </td><td>[2]   </td></tr>\n",
              "\t<tr><td>Algeria            </td><td>2 Nov 2020 </td><td>230,553</td><td>samples</td><td>58,574</td><td>25.4</td><td>0.53</td><td>0.13 </td><td>[3][4]</td></tr>\n",
              "\t<tr><td>Andorra            </td><td>23 Feb 2022</td><td>300,307</td><td>samples</td><td>37,958</td><td>12.6</td><td>387 </td><td>49.0 </td><td>[5]   </td></tr>\n",
              "\t<tr><td>Angola             </td><td>2 Feb 2021 </td><td>399,228</td><td>samples</td><td>20,981</td><td>5.3 </td><td>1.3 </td><td>0.067</td><td>[6]   </td></tr>\n",
              "\t<tr><td>Antigua and Barbuda</td><td>6 Mar 2021 </td><td>15,268 </td><td>samples</td><td>832   </td><td>5.4 </td><td>15.9</td><td>0.86 </td><td>[7]   </td></tr>\n",
              "</tbody>\n",
              "</table>\n"
            ],
            "text/markdown": "\nA tibble: 6 × 9\n\n| Country or region &lt;chr&gt; | Date[a] &lt;chr&gt; | Tested &lt;chr&gt; | Units[b] &lt;chr&gt; | Confirmed(cases) &lt;chr&gt; | Confirmed /tested,% &lt;chr&gt; | Tested /population,% &lt;chr&gt; | Confirmed /population,% &lt;chr&gt; | Ref. &lt;chr&gt; |\n|---|---|---|---|---|---|---|---|---|\n| Afghanistan         | 17 Dec 2020 | 154,767 | samples | 49,621 | 32.1 | 0.40 | 0.13  | [1]    |\n| Albania             | 18 Feb 2021 | 428,654 | samples | 96,838 | 22.6 | 15.0 | 3.4   | [2]    |\n| Algeria             | 2 Nov 2020  | 230,553 | samples | 58,574 | 25.4 | 0.53 | 0.13  | [3][4] |\n| Andorra             | 23 Feb 2022 | 300,307 | samples | 37,958 | 12.6 | 387  | 49.0  | [5]    |\n| Angola              | 2 Feb 2021  | 399,228 | samples | 20,981 | 5.3  | 1.3  | 0.067 | [6]    |\n| Antigua and Barbuda | 6 Mar 2021  | 15,268  | samples | 832    | 5.4  | 15.9 | 0.86  | [7]    |\n\n",
            "text/latex": "A tibble: 6 × 9\n\\begin{tabular}{lllllllll}\n Country or region & Date{[}a{]} & Tested & Units{[}b{]} & Confirmed(cases) & Confirmed /tested,\\% & Tested /population,\\% & Confirmed /population,\\% & Ref.\\\\\n <chr> & <chr> & <chr> & <chr> & <chr> & <chr> & <chr> & <chr> & <chr>\\\\\n\\hline\n\t Afghanistan         & 17 Dec 2020 & 154,767 & samples & 49,621 & 32.1 & 0.40 & 0.13  & {[}1{]}   \\\\\n\t Albania             & 18 Feb 2021 & 428,654 & samples & 96,838 & 22.6 & 15.0 & 3.4   & {[}2{]}   \\\\\n\t Algeria             & 2 Nov 2020  & 230,553 & samples & 58,574 & 25.4 & 0.53 & 0.13  & {[}3{]}{[}4{]}\\\\\n\t Andorra             & 23 Feb 2022 & 300,307 & samples & 37,958 & 12.6 & 387  & 49.0  & {[}5{]}   \\\\\n\t Angola              & 2 Feb 2021  & 399,228 & samples & 20,981 & 5.3  & 1.3  & 0.067 & {[}6{]}   \\\\\n\t Antigua and Barbuda & 6 Mar 2021  & 15,268  & samples & 832    & 5.4  & 15.9 & 0.86  & {[}7{]}   \\\\\n\\end{tabular}\n",
            "text/plain": [
              "  Country or region   Date[a]     Tested  Units[b] Confirmed(cases)\n",
              "1 Afghanistan         17 Dec 2020 154,767 samples  49,621          \n",
              "2 Albania             18 Feb 2021 428,654 samples  96,838          \n",
              "3 Algeria             2 Nov 2020  230,553 samples  58,574          \n",
              "4 Andorra             23 Feb 2022 300,307 samples  37,958          \n",
              "5 Angola              2 Feb 2021  399,228 samples  20,981          \n",
              "6 Antigua and Barbuda 6 Mar 2021  15,268  samples  832             \n",
              "  Confirmed /tested,% Tested /population,% Confirmed /population,% Ref.  \n",
              "1 32.1                0.40                 0.13                    [1]   \n",
              "2 22.6                15.0                 3.4                     [2]   \n",
              "3 25.4                0.53                 0.13                    [3][4]\n",
              "4 12.6                387                  49.0                    [5]   \n",
              "5 5.3                 1.3                  0.067                   [6]   \n",
              "6 5.4                 15.9                 0.86                    [7]   "
            ]
          },
          "metadata": {}
        }
      ]
    },
    {
      "cell_type": "markdown",
      "source": [
        "## TASK 3: Pre-processing and Exporting the Extracted Dataframe\n",
        "#### The goal of this task is to pre-process the extracted data frame, and export it as a csv file. **\"Pre-process\"** here is synonymous to **\"Data Cleaning\"**, a phrase more widely used within the Data Ecosystem.\n",
        "#### Let's get a high-level overwiew of the dataframe first. That will give us some insights into what cleaning tasks need to be carried out."
      ],
      "metadata": {
        "id": "Vg2RQMgONHTH"
      }
    },
    {
      "cell_type": "code",
      "source": [
        "summary(covid_df)"
      ],
      "metadata": {
        "colab": {
          "base_uri": "https://localhost:8080/",
          "height": 235
        },
        "id": "n-NwusRdOV5m",
        "outputId": "d055e056-2110-43ea-ba4a-acec612238bc"
      },
      "execution_count": 4,
      "outputs": [
        {
          "output_type": "display_data",
          "data": {
            "text/plain": [
              " Country or region    Date[a]             Tested            Units[b]        \n",
              " Length:173         Length:173         Length:173         Length:173        \n",
              " Class :character   Class :character   Class :character   Class :character  \n",
              " Mode  :character   Mode  :character   Mode  :character   Mode  :character  \n",
              " Confirmed(cases)   Confirmed /tested,% Tested /population,%\n",
              " Length:173         Length:173          Length:173          \n",
              " Class :character   Class :character    Class :character    \n",
              " Mode  :character   Mode  :character    Mode  :character    \n",
              " Confirmed /population,%     Ref.          \n",
              " Length:173              Length:173        \n",
              " Class :character        Class :character  \n",
              " Mode  :character        Mode  :character  "
            ]
          },
          "metadata": {}
        }
      ]
    },
    {
      "cell_type": "markdown",
      "source": [
        "First thing we see from the summary output is that the column names are too vague to understand. It is best practice to have descriptive column names for easy reference. We also have the issue of incorrect data types with some of the columns - for example, the **`Tested`** column shows as character, which should be a numeric column.\n",
        "\n",
        "As such, the data frame read from HTML table will need some pre-processing (cleaning) such as **removing irrelvant columns, renaming columns, and converting columns into proper data types**."
      ],
      "metadata": {
        "id": "S852BE0QOh1a"
      }
    },
    {
      "cell_type": "code",
      "source": [
        "#I define a function that does the cleaning tasks in one breeze\n",
        "clean_covid_df <- function(df) {\n",
        "    \n",
        "    shape <- dim(df)\n",
        "\n",
        "    #this removes the World row\n",
        "    df<-df[!(df$`Country or region`==\"World\"),]\n",
        "    #this removes the last row\n",
        "    df <- df[1:172, ]\n",
        "    \n",
        "    #I dont need the Units and Ref columns, so they can be removed\n",
        "    df[\"Ref.\"] <- NULL\n",
        "    df[\"Units[b]\"] <- NULL\n",
        "    \n",
        "    #Renaming the columns\n",
        "    names(df) <- c(\"country\", \"date\", \"tested\", \"confirmed\", \"confirmed.tested.ratio\", \"tested.population.ratio\", \"confirmed.population.ratio\")\n",
        "    \n",
        "    #This converts columns data types into proper ones\n",
        "    df$country <- as.factor(df$country)\n",
        "    df$date <- as.factor(df$date)\n",
        "    df$tested <- as.numeric(gsub(\",\",\"\",df$tested))\n",
        "    df$confirmed <- as.numeric(gsub(\",\",\"\",df$confirmed))\n",
        "    df$'confirmed.tested.ratio' <- as.numeric(gsub(\",\",\"\",df$`confirmed.tested.ratio`))\n",
        "    df$'tested.population.ratio' <- as.numeric(gsub(\",\",\"\",df$`tested.population.ratio`))\n",
        "    df$'confirmed.population.ratio' <- as.numeric(gsub(\",\",\"\",df$`confirmed.population.ratio`))\n",
        "    \n",
        "    return(df)\n",
        "}"
      ],
      "metadata": {
        "id": "ogb6HZkaPyAJ"
      },
      "execution_count": 7,
      "outputs": []
    },
    {
      "cell_type": "markdown",
      "source": [
        "#### Now, let's call the clean_covid_df function and assign it to a \"clean_df\" dataframe."
      ],
      "metadata": {
        "id": "YlY9A5m4SFao"
      }
    },
    {
      "cell_type": "code",
      "source": [
        "#Calling the `clean_covid_df` function and assign it to a new data frame\n",
        "clean_df <- clean_covid_df(covid_df)\n",
        "head(clean_df)"
      ],
      "metadata": {
        "colab": {
          "base_uri": "https://localhost:8080/",
          "height": 286
        },
        "id": "0ppDRHhXSlH1",
        "outputId": "3384c250-8eb3-4718-8194-6e5a9500b788"
      },
      "execution_count": 8,
      "outputs": [
        {
          "output_type": "display_data",
          "data": {
            "text/html": [
              "<table class=\"dataframe\">\n",
              "<caption>A tibble: 6 × 7</caption>\n",
              "<thead>\n",
              "\t<tr><th scope=col>country</th><th scope=col>date</th><th scope=col>tested</th><th scope=col>confirmed</th><th scope=col>confirmed.tested.ratio</th><th scope=col>tested.population.ratio</th><th scope=col>confirmed.population.ratio</th></tr>\n",
              "\t<tr><th scope=col>&lt;fct&gt;</th><th scope=col>&lt;fct&gt;</th><th scope=col>&lt;dbl&gt;</th><th scope=col>&lt;dbl&gt;</th><th scope=col>&lt;dbl&gt;</th><th scope=col>&lt;dbl&gt;</th><th scope=col>&lt;dbl&gt;</th></tr>\n",
              "</thead>\n",
              "<tbody>\n",
              "\t<tr><td>Afghanistan        </td><td>17 Dec 2020</td><td>154767</td><td>49621</td><td>32.1</td><td>  0.40</td><td> 0.130</td></tr>\n",
              "\t<tr><td>Albania            </td><td>18 Feb 2021</td><td>428654</td><td>96838</td><td>22.6</td><td> 15.00</td><td> 3.400</td></tr>\n",
              "\t<tr><td>Algeria            </td><td>2 Nov 2020 </td><td>230553</td><td>58574</td><td>25.4</td><td>  0.53</td><td> 0.130</td></tr>\n",
              "\t<tr><td>Andorra            </td><td>23 Feb 2022</td><td>300307</td><td>37958</td><td>12.6</td><td>387.00</td><td>49.000</td></tr>\n",
              "\t<tr><td>Angola             </td><td>2 Feb 2021 </td><td>399228</td><td>20981</td><td> 5.3</td><td>  1.30</td><td> 0.067</td></tr>\n",
              "\t<tr><td>Antigua and Barbuda</td><td>6 Mar 2021 </td><td> 15268</td><td>  832</td><td> 5.4</td><td> 15.90</td><td> 0.860</td></tr>\n",
              "</tbody>\n",
              "</table>\n"
            ],
            "text/markdown": "\nA tibble: 6 × 7\n\n| country &lt;fct&gt; | date &lt;fct&gt; | tested &lt;dbl&gt; | confirmed &lt;dbl&gt; | confirmed.tested.ratio &lt;dbl&gt; | tested.population.ratio &lt;dbl&gt; | confirmed.population.ratio &lt;dbl&gt; |\n|---|---|---|---|---|---|---|\n| Afghanistan         | 17 Dec 2020 | 154767 | 49621 | 32.1 |   0.40 |  0.130 |\n| Albania             | 18 Feb 2021 | 428654 | 96838 | 22.6 |  15.00 |  3.400 |\n| Algeria             | 2 Nov 2020  | 230553 | 58574 | 25.4 |   0.53 |  0.130 |\n| Andorra             | 23 Feb 2022 | 300307 | 37958 | 12.6 | 387.00 | 49.000 |\n| Angola              | 2 Feb 2021  | 399228 | 20981 |  5.3 |   1.30 |  0.067 |\n| Antigua and Barbuda | 6 Mar 2021  |  15268 |   832 |  5.4 |  15.90 |  0.860 |\n\n",
            "text/latex": "A tibble: 6 × 7\n\\begin{tabular}{lllllll}\n country & date & tested & confirmed & confirmed.tested.ratio & tested.population.ratio & confirmed.population.ratio\\\\\n <fct> & <fct> & <dbl> & <dbl> & <dbl> & <dbl> & <dbl>\\\\\n\\hline\n\t Afghanistan         & 17 Dec 2020 & 154767 & 49621 & 32.1 &   0.40 &  0.130\\\\\n\t Albania             & 18 Feb 2021 & 428654 & 96838 & 22.6 &  15.00 &  3.400\\\\\n\t Algeria             & 2 Nov 2020  & 230553 & 58574 & 25.4 &   0.53 &  0.130\\\\\n\t Andorra             & 23 Feb 2022 & 300307 & 37958 & 12.6 & 387.00 & 49.000\\\\\n\t Angola              & 2 Feb 2021  & 399228 & 20981 &  5.3 &   1.30 &  0.067\\\\\n\t Antigua and Barbuda & 6 Mar 2021  &  15268 &   832 &  5.4 &  15.90 &  0.860\\\\\n\\end{tabular}\n",
            "text/plain": [
              "  country             date        tested confirmed confirmed.tested.ratio\n",
              "1 Afghanistan         17 Dec 2020 154767 49621     32.1                  \n",
              "2 Albania             18 Feb 2021 428654 96838     22.6                  \n",
              "3 Algeria             2 Nov 2020  230553 58574     25.4                  \n",
              "4 Andorra             23 Feb 2022 300307 37958     12.6                  \n",
              "5 Angola              2 Feb 2021  399228 20981      5.3                  \n",
              "6 Antigua and Barbuda 6 Mar 2021   15268   832      5.4                  \n",
              "  tested.population.ratio confirmed.population.ratio\n",
              "1   0.40                   0.130                    \n",
              "2  15.00                   3.400                    \n",
              "3   0.53                   0.130                    \n",
              "4 387.00                  49.000                    \n",
              "5   1.30                   0.067                    \n",
              "6  15.90                   0.860                    "
            ]
          },
          "metadata": {}
        }
      ]
    },
    {
      "cell_type": "markdown",
      "source": [
        "#### Let's get a high-level overview of the dataframe (the cleaned one this time around) to observe changes made"
      ],
      "metadata": {
        "id": "fxCPtf2RU31e"
      }
    },
    {
      "cell_type": "code",
      "source": [
        "summary(clean_df)"
      ],
      "metadata": {
        "colab": {
          "base_uri": "https://localhost:8080/",
          "height": 453
        },
        "id": "FpW4hUiqTXcD",
        "outputId": "b9ea4aeb-6e75-4b6c-e4b1-125d3686c49a"
      },
      "execution_count": 9,
      "outputs": [
        {
          "output_type": "display_data",
          "data": {
            "text/plain": [
              "                country             date         tested         \n",
              " Afghanistan        :  1   13 Aug 2022:  9   Min.   :     3880  \n",
              " Albania            :  1   3 Aug 2022 :  5   1st Qu.:   512037  \n",
              " Algeria            :  1   4 Aug 2022 :  4   Median :  3029859  \n",
              " Andorra            :  1   1 Mar 2021 :  3   Mean   : 30695088  \n",
              " Angola             :  1   15 Aug 2022:  3   3rd Qu.: 11827419  \n",
              " Antigua and Barbuda:  1   23 Jul 2021:  3   Max.   :929349291  \n",
              " (Other)            :166   (Other)    :145                      \n",
              "   confirmed        confirmed.tested.ratio tested.population.ratio\n",
              " Min.   :       0   Min.   : 0.00          Min.   :   0.0065      \n",
              " 1st Qu.:   37636   1st Qu.: 5.00          1st Qu.:   9.3750      \n",
              " Median :  281196   Median :10.15          Median :  42.3500      \n",
              " Mean   : 2410938   Mean   :11.45          Mean   : 166.7915      \n",
              " 3rd Qu.: 1207072   3rd Qu.:15.43          3rd Qu.: 139.2500      \n",
              " Max.   :90749469   Max.   :63.80          Max.   :3024.0000      \n",
              "                                                                  \n",
              " confirmed.population.ratio\n",
              " Min.   : 0.000            \n",
              " 1st Qu.: 0.425            \n",
              " Median : 6.100            \n",
              " Mean   :12.016            \n",
              " 3rd Qu.:15.600            \n",
              " Max.   :65.800            \n",
              "                           "
            ]
          },
          "metadata": {}
        }
      ]
    },
    {
      "cell_type": "markdown",
      "source": [
        "After cleaning, we can see the columns are now simplified with more descriptive column names, and columns types are converted into correct types.\n",
        "\n",
        "**The data frame has following columns:**\n",
        "\n",
        "- country - *The name of the country*\n",
        "- date - *Reported date*\n",
        "- tested - *Total tested cases by the reported date*\n",
        "- confirmed - *Total confirmed cases by the reported date*\n",
        "- confirmed.tested.ratio - *The ratio of confirmed cases to the tested cases*\n",
        "- tested.population.ratio - *The ratio of tested cases to the population of the country*\n",
        "- confirmed.population.ratio - *The ratio of confirmed cases to the population of the country*\n",
        "\n",
        "Now, we can call the `write.csv()` function to save the dataframe to a csv file."
      ],
      "metadata": {
        "id": "0v_rlguJVa_O"
      }
    },
    {
      "cell_type": "code",
      "source": [
        "#Exporting the dataframe to a csv file\n",
        "write.csv(clean_df, file = \"covid-19_df.csv\", row.names = FALSE)"
      ],
      "metadata": {
        "id": "gEIAYBKZWqNN"
      },
      "execution_count": 10,
      "outputs": []
    },
    {
      "cell_type": "markdown",
      "source": [
        "# **Exploratory Data Analysis (EDA)**"
      ],
      "metadata": {
        "id": "zzhB4rkQa28f"
      }
    },
    {
      "cell_type": "markdown",
      "source": [
        "## Task 4: Calculating Worldwide COVID-19 test-positive ratio.\n",
        "#### The goal of this task is to get the total confirmed and tested cases worldwide, and try to figure out the overall positive ratio using the simple confirmed cases / tested cases formula"
      ],
      "metadata": {
        "id": "108fMRsRbOwa"
      }
    },
    {
      "cell_type": "code",
      "source": [
        "#Gets the total confirmed cases worldwide\n",
        "confirmed_cases <- clean_df[ , 4]\n",
        "total_confirmed_cases <- sum(confirmed_cases)\n",
        "print(paste(\"Total confirmed cases:\", total_confirmed_cases))\n",
        "\n",
        "#Gets the total tested cases worldwide\n",
        "total_cases <- clean_df[ , 3]\n",
        "total_tested_cases <- sum(total_cases)\n",
        "print(paste(\"Total tested cases:\", total_tested_cases))\n",
        "\n",
        "#Gets the positive ratio (confirmed / tested)\n",
        "positive_ratio <- total_confirmed_cases/total_tested_cases\n",
        "print(paste(\"Positive ratio:\", positive_ratio*100))"
      ],
      "metadata": {
        "colab": {
          "base_uri": "https://localhost:8080/"
        },
        "id": "qNCDdl8mb0hz",
        "outputId": "bf226b2e-21cf-4d0e-8b0a-83d78c60e4e2"
      },
      "execution_count": 16,
      "outputs": [
        {
          "output_type": "stream",
          "name": "stdout",
          "text": [
            "[1] \"Total confirmed cases: 414681419\"\n",
            "[1] \"Total tested cases: 5279555099\"\n",
            "[1] \"Positive ratio: 7.8544765841831\"\n"
          ]
        }
      ]
    },
    {
      "cell_type": "markdown",
      "source": [
        "Based on the number of people tested globally and the number of confirmed cases, **the global average positive cases ratio is just a little under 8%**. Essentially, about **8 out every 100** people **tested** were **positive**. Depending on the context though, maybe the Covid-19 pandemic isn't that much of a \"PANDEMIC\" - no disregard to the lives lost. "
      ],
      "metadata": {
        "id": "QqYsrMhGewhs"
      }
    },
    {
      "cell_type": "markdown",
      "source": [
        "## Task 5: Which Countries were Dealt the Hugest Blow?\n",
        "#### The main task here is to discover the countries that felt the largest impact of the Covid-19 pandemic. This is assessed by comparing their confimed.population.ratio"
      ],
      "metadata": {
        "id": "kwMHQzHahpjY"
      }
    },
    {
      "cell_type": "code",
      "source": [
        "sorted_df <-clean_df[order(-clean_df$confirmed.population.ratio), ]\n",
        "high_impact_countries <- head(sorted_df, 10)\n",
        "high_impact_countries[c(1,7)]"
      ],
      "metadata": {
        "colab": {
          "base_uri": "https://localhost:8080/",
          "height": 412
        },
        "id": "QHfdEfA-jaBa",
        "outputId": "b4dbfb64-d56f-416c-d0a1-34a966a7c0a1"
      },
      "execution_count": 18,
      "outputs": [
        {
          "output_type": "display_data",
          "data": {
            "text/html": [
              "<table class=\"dataframe\">\n",
              "<caption>A tibble: 10 × 2</caption>\n",
              "<thead>\n",
              "\t<tr><th scope=col>country</th><th scope=col>confirmed.population.ratio</th></tr>\n",
              "\t<tr><th scope=col>&lt;fct&gt;</th><th scope=col>&lt;dbl&gt;</th></tr>\n",
              "</thead>\n",
              "<tbody>\n",
              "\t<tr><td>Cyprus[d]     </td><td>65.8</td></tr>\n",
              "\t<tr><td>Faroe Islands </td><td>65.7</td></tr>\n",
              "\t<tr><td>San Marino    </td><td>58.5</td></tr>\n",
              "\t<tr><td>Denmark[e]    </td><td>55.9</td></tr>\n",
              "\t<tr><td>Iceland       </td><td>55.8</td></tr>\n",
              "\t<tr><td>Austria       </td><td>54.9</td></tr>\n",
              "\t<tr><td>Slovenia      </td><td>52.7</td></tr>\n",
              "\t<tr><td>Andorra       </td><td>49.0</td></tr>\n",
              "\t<tr><td>Switzerland[l]</td><td>46.1</td></tr>\n",
              "\t<tr><td>Estonia       </td><td>44.7</td></tr>\n",
              "</tbody>\n",
              "</table>\n"
            ],
            "text/markdown": "\nA tibble: 10 × 2\n\n| country &lt;fct&gt; | confirmed.population.ratio &lt;dbl&gt; |\n|---|---|\n| Cyprus[d]      | 65.8 |\n| Faroe Islands  | 65.7 |\n| San Marino     | 58.5 |\n| Denmark[e]     | 55.9 |\n| Iceland        | 55.8 |\n| Austria        | 54.9 |\n| Slovenia       | 52.7 |\n| Andorra        | 49.0 |\n| Switzerland[l] | 46.1 |\n| Estonia        | 44.7 |\n\n",
            "text/latex": "A tibble: 10 × 2\n\\begin{tabular}{ll}\n country & confirmed.population.ratio\\\\\n <fct> & <dbl>\\\\\n\\hline\n\t Cyprus{[}d{]}      & 65.8\\\\\n\t Faroe Islands  & 65.7\\\\\n\t San Marino     & 58.5\\\\\n\t Denmark{[}e{]}     & 55.9\\\\\n\t Iceland        & 55.8\\\\\n\t Austria        & 54.9\\\\\n\t Slovenia       & 52.7\\\\\n\t Andorra        & 49.0\\\\\n\t Switzerland{[}l{]} & 46.1\\\\\n\t Estonia        & 44.7\\\\\n\\end{tabular}\n",
            "text/plain": [
              "   country        confirmed.population.ratio\n",
              "1  Cyprus[d]      65.8                      \n",
              "2  Faroe Islands  65.7                      \n",
              "3  San Marino     58.5                      \n",
              "4  Denmark[e]     55.9                      \n",
              "5  Iceland        55.8                      \n",
              "6  Austria        54.9                      \n",
              "7  Slovenia       52.7                      \n",
              "8  Andorra        49.0                      \n",
              "9  Switzerland[l] 46.1                      \n",
              "10 Estonia        44.7                      "
            ]
          },
          "metadata": {}
        }
      ]
    },
    {
      "cell_type": "markdown",
      "source": [
        "Looking at the table above, many analysts may argue that the reason the ratio for the above countries are high is because most of them have low population, but that is exactly the idea. The rate of exposure is too high too for these countries despite their low population. Imagine having about **65%** of an entire population living with a particular virus when the global average infection rate is just below **8%**. That's scary. If I were living in any of these country and I hear about a new global outbreak of a virus (which we pray against), I would leave such country the very minute. And I am leaving with my human and physical capital investments, if possible."
      ],
      "metadata": {
        "id": "2oFsJNQCnYm8"
      }
    },
    {
      "cell_type": "markdown",
      "source": [
        "# **Summary:**\n",
        "This project was embarked upon to put to practice the knowledge and skills I gained while taking the **[Introduction to R for Data Science](https://www.coursera.org/learn/introducton-r-programming-data-science)** course curated by **[Coursera](https://www.coursera.org/)**. Working on a real-world project seemed like a good way to put on my Data Analyst hat and try to solve an actual problem. \n",
        "Special thanks to **[Data Professor](https://www.youtube.com/c/DataProfessor)** for his tutorial on how to **[Use native R on Google Colab for Data Science]((https://www.youtube.com/watch?v=huAWa0bqxtA)**.\n",
        "\n",
        "My name is Ayobami Yusuf, I am a life-long learner devoted to Data Science, Machine Learning, Data Analytics, and helping Individuals and Businesses stay competitive by leveraging their data and modern data stack and tools. You can connect with me on **[LinkedIn](www.linkedin.com/in/ayobami-yusuf)**. "
      ],
      "metadata": {
        "id": "EeY3y48kpPZO"
      }
    }
  ]
}